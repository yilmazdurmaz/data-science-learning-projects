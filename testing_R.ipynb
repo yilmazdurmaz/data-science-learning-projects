{
 "cells": [
  {
   "cell_type": "code",
   "execution_count": 12,
   "id": "f0291cba-b7ae-42b3-b99e-de8c61bc2fb8",
   "metadata": {},
   "outputs": [],
   "source": [
    "dat <- c(1,1,2,3,3,3,4,5)"
   ]
  },
  {
   "cell_type": "code",
   "execution_count": 13,
   "id": "85e6e9a9-6711-4392-9aa6-7d73c73e4cae",
   "metadata": {},
   "outputs": [
    {
     "data": {
      "text/html": [
       "2.75"
      ],
      "text/latex": [
       "2.75"
      ],
      "text/markdown": [
       "2.75"
      ],
      "text/plain": [
       "[1] 2.75"
      ]
     },
     "metadata": {},
     "output_type": "display_data"
    }
   ],
   "source": [
    "mean(dat)"
   ]
  },
  {
   "cell_type": "code",
   "execution_count": 14,
   "id": "a70a2c70-6338-43b3-8818-0c91aee5b2f2",
   "metadata": {},
   "outputs": [
    {
     "data": {
      "text/html": [
       "1.38873014965883"
      ],
      "text/latex": [
       "1.38873014965883"
      ],
      "text/markdown": [
       "1.38873014965883"
      ],
      "text/plain": [
       "[1] 1.38873"
      ]
     },
     "metadata": {},
     "output_type": "display_data"
    }
   ],
   "source": [
    "sd(dat)"
   ]
  },
  {
   "cell_type": "code",
   "execution_count": 10,
   "id": "1268b0a7-add6-4089-b099-2dd04da76db2",
   "metadata": {},
   "outputs": [
    {
     "data": {
      "text/html": [
       "1.92857142857143"
      ],
      "text/latex": [
       "1.92857142857143"
      ],
      "text/markdown": [
       "1.92857142857143"
      ],
      "text/plain": [
       "[1] 1.928571"
      ]
     },
     "metadata": {},
     "output_type": "display_data"
    }
   ],
   "source": [
    "var(dat)"
   ]
  },
  {
   "cell_type": "code",
   "execution_count": 7,
   "id": "686c333f-2736-4572-b893-2f0a1bd7ccd8",
   "metadata": {},
   "outputs": [
    {
     "data": {
      "text/html": [
       "<style>\n",
       ".dl-inline {width: auto; margin:0; padding: 0}\n",
       ".dl-inline>dt, .dl-inline>dd {float: none; width: auto; display: inline-block}\n",
       ".dl-inline>dt::after {content: \":\\0020\"; padding-right: .5ex}\n",
       ".dl-inline>dt:not(:first-of-type) {padding-left: .5ex}\n",
       "</style><dl class=dl-inline><dt>0%</dt><dd>1</dd><dt>25%</dt><dd>1.5</dd><dt>50%</dt><dd>3</dd><dt>75%</dt><dd>3.5</dd><dt>100%</dt><dd>5</dd></dl>\n"
      ],
      "text/latex": [
       "\\begin{description*}\n",
       "\\item[0\\textbackslash{}\\%] 1\n",
       "\\item[25\\textbackslash{}\\%] 1.5\n",
       "\\item[50\\textbackslash{}\\%] 3\n",
       "\\item[75\\textbackslash{}\\%] 3.5\n",
       "\\item[100\\textbackslash{}\\%] 5\n",
       "\\end{description*}\n"
      ],
      "text/markdown": [
       "0%\n",
       ":   125%\n",
       ":   1.550%\n",
       ":   375%\n",
       ":   3.5100%\n",
       ":   5\n",
       "\n"
      ],
      "text/plain": [
       "  0%  25%  50%  75% 100% \n",
       " 1.0  1.5  3.0  3.5  5.0 "
      ]
     },
     "metadata": {},
     "output_type": "display_data"
    }
   ],
   "source": [
    "quantile(dat, type=2)"
   ]
  },
  {
   "cell_type": "code",
   "execution_count": 15,
   "id": "04eddf1c-d2ea-4871-9869-be222296e5a7",
   "metadata": {},
   "outputs": [
    {
     "data": {
      "image/png": "[encoded data removed]",
      "text/plain": [
       "plot without title"
      ]
     },
     "metadata": {
      "image/png": {
       "height": 420,
       "width": 420
      }
     },
     "output_type": "display_data"
    }
   ],
   "source": [
    "plot(dat)"
   ]
  },
  {
   "cell_type": "code",
   "execution_count": 17,
   "id": "52e8297f-b6c9-4331-a8b8-51b446f4a639",
   "metadata": {},
   "outputs": [],
   "source": [
    "data_frame <- data.frame(dat, c(1,2,3,4,5,6,7,8))"
   ]
  },
  {
   "cell_type": "code",
   "execution_count": 18,
   "id": "30fa1df1-77c1-40c7-94ce-eee7f17d9195",
   "metadata": {},
   "outputs": [
    {
     "data": {
      "text/html": [
       "<table class=\"dataframe\">\n",
       "<caption>A matrix: 2 × 2 of type dbl</caption>\n",
       "<thead>\n",
       "\t<tr><th></th><th scope=col>dat</th><th scope=col>c.1..2..3..4..5..6..7..8.</th></tr>\n",
       "</thead>\n",
       "<tbody>\n",
       "\t<tr><th scope=row>dat</th><td>1.928571</td><td>3.285714</td></tr>\n",
       "\t<tr><th scope=row>c.1..2..3..4..5..6..7..8.</th><td>3.285714</td><td>6.000000</td></tr>\n",
       "</tbody>\n",
       "</table>\n"
      ],
      "text/latex": [
       "A matrix: 2 × 2 of type dbl\n",
       "\\begin{tabular}{r|ll}\n",
       "  & dat & c.1..2..3..4..5..6..7..8.\\\\\n",
       "\\hline\n",
       "\tdat & 1.928571 & 3.285714\\\\\n",
       "\tc.1..2..3..4..5..6..7..8. & 3.285714 & 6.000000\\\\\n",
       "\\end{tabular}\n"
      ],
      "text/markdown": [
       "\n",
       "A matrix: 2 × 2 of type dbl\n",
       "\n",
       "| <!--/--> | dat | c.1..2..3..4..5..6..7..8. |\n",
       "|---|---|---|\n",
       "| dat | 1.928571 | 3.285714 |\n",
       "| c.1..2..3..4..5..6..7..8. | 3.285714 | 6.000000 |\n",
       "\n"
      ],
      "text/plain": [
       "                          dat      c.1..2..3..4..5..6..7..8.\n",
       "dat                       1.928571 3.285714                 \n",
       "c.1..2..3..4..5..6..7..8. 3.285714 6.000000                 "
      ]
     },
     "metadata": {},
     "output_type": "display_data"
    }
   ],
   "source": [
    "cov(data_frame)"
   ]
  },
  {
   "cell_type": "code",
   "execution_count": 19,
   "id": "46430216-e7cd-4317-b3cb-e9eeeef9b12e",
   "metadata": {},
   "outputs": [
    {
     "data": {
      "text/html": [
       "<table class=\"dataframe\">\n",
       "<caption>A matrix: 2 × 2 of type dbl</caption>\n",
       "<thead>\n",
       "\t<tr><th></th><th scope=col>dat</th><th scope=col>c.1..2..3..4..5..6..7..8.</th></tr>\n",
       "</thead>\n",
       "<tbody>\n",
       "\t<tr><th scope=row>dat</th><td>1.0000000</td><td>0.9659092</td></tr>\n",
       "\t<tr><th scope=row>c.1..2..3..4..5..6..7..8.</th><td>0.9659092</td><td>1.0000000</td></tr>\n",
       "</tbody>\n",
       "</table>\n"
      ],
      "text/latex": [
       "A matrix: 2 × 2 of type dbl\n",
       "\\begin{tabular}{r|ll}\n",
       "  & dat & c.1..2..3..4..5..6..7..8.\\\\\n",
       "\\hline\n",
       "\tdat & 1.0000000 & 0.9659092\\\\\n",
       "\tc.1..2..3..4..5..6..7..8. & 0.9659092 & 1.0000000\\\\\n",
       "\\end{tabular}\n"
      ],
      "text/markdown": [
       "\n",
       "A matrix: 2 × 2 of type dbl\n",
       "\n",
       "| <!--/--> | dat | c.1..2..3..4..5..6..7..8. |\n",
       "|---|---|---|\n",
       "| dat | 1.0000000 | 0.9659092 |\n",
       "| c.1..2..3..4..5..6..7..8. | 0.9659092 | 1.0000000 |\n",
       "\n"
      ],
      "text/plain": [
       "                          dat       c.1..2..3..4..5..6..7..8.\n",
       "dat                       1.0000000 0.9659092                \n",
       "c.1..2..3..4..5..6..7..8. 0.9659092 1.0000000                "
      ]
     },
     "metadata": {},
     "output_type": "display_data"
    }
   ],
   "source": [
    "cor(data_frame)"
   ]
  },
  {
   "cell_type": "code",
   "execution_count": 21,
   "id": "5aff1c13-5504-4a52-a1cd-7455ffb4399f",
   "metadata": {},
   "outputs": [
    {
     "data": {
      "image/png": "[encoded data removed]",
      "text/plain": [
       "plot without title"
      ]
     },
     "metadata": {
      "image/png": {
       "height": 420,
       "width": 420
      }
     },
     "output_type": "display_data"
    }
   ],
   "source": [
    "heatmap(cor(data_frame))"
   ]
  },
  {
   "cell_type": "code",
   "execution_count": null,
   "id": "e10384f7-cc76-4836-a4a0-f9cb366e5667",
   "metadata": {},
   "outputs": [],
   "source": []
  }
 ],
 "metadata": {
  "kernelspec": {
   "display_name": "R",
   "language": "R",
   "name": "ir"
  },
  "language_info": {
   "codemirror_mode": "r",
   "file_extension": ".r",
   "mimetype": "text/x-r-source",
   "name": "R",
   "pygments_lexer": "r",
   "version": "4.2.2"
  }
 },
 "nbformat": 4,
 "nbformat_minor": 5
}
